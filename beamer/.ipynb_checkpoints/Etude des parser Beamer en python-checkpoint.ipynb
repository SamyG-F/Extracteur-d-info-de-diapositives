{
 "cells": [
  {
   "cell_type": "markdown",
   "metadata": {},
   "source": [
    "# Etude des parser Beamer en Python"
   ]
  },
  {
   "cell_type": "markdown",
   "metadata": {},
   "source": [
    "## Methodologie"
   ]
  },
  {
   "cell_type": "markdown",
   "metadata": {},
   "source": [
    "Nous allons étudier l'interêt de plusieurs parsers pour l'extraction d'information de présentations beamer :\n",
    "\n",
    "TexSoup : https://github.com/alvinwan/TexSoup\n",
    "\n",
    "LatexWalker : https://pylatexenc.readthedocs.io/en/latest/latexwalker/\n",
    "\n",
    "PlasTeX : http://plastex.github.io/plastex/\n",
    "\n",
    "LaTeXML : https://dlmf.nist.gov/LaTeXML/\n",
    "\n",
    "Le document beamer utilisé pour les tests est beamer/Beamer_test_parser.tex\n",
    "\n",
    "### Objectifs des tests\n",
    "\n",
    "Pour chaque parser, nous voulons tester leur capacité à :\n",
    "- accèder à la structure hiérarchique\n",
    "- accèder à la mise en forme du texte\n",
    "- accèder aux métadonnées\n",
    "\n",
    "La facilité des parsers à extraire ces données sera notre indicateur de leur pertinence pour notre projet.\n",
    "\n",
    "### Tests à effectuer\n",
    "\n",
    "Voici les tests à effectuer avec chaque parser : \n",
    "\n",
    "1) Donner : author, subject, date, keywords\n",
    "\n",
    "2) Donner le nombre de diapositives\n",
    "\n",
    "3) Donner la profondeur et le rang de la diapositive n°3\n",
    "\n",
    "4) Donner le titre et le texte de la diapositive n°2, avec informations de mise en forme\n",
    "\n",
    "Les attendus sont :\n",
    "\n",
    "1) author : 'Samy Gascoin-Fontaine'\n",
    "\n",
    "subject : 'test de parser beamer'\n",
    "\n",
    "date : '20 novembre 2020'\n",
    "\n",
    "keywords : 'test, Python, beamer, parser'\n",
    "\n",
    "2) 4\n",
    "\n",
    "3) profondeur : 3\n",
    "\n",
    "rang : 1\n",
    "\n",
    "4) titre : {text : 'première page', type : 'title'}\n",
    "\n",
    "texte : {text : 'ceci est en italique', type : 'body', italic = True}"
   ]
  },
  {
   "cell_type": "markdown",
   "metadata": {},
   "source": [
    "## TexSoup"
   ]
  },
  {
   "cell_type": "markdown",
   "metadata": {},
   "source": [
    "### Ouvrir le fichier test beamer avec TexSoup"
   ]
  },
  {
   "cell_type": "code",
   "execution_count": 2,
   "metadata": {},
   "outputs": [
    {
     "ename": "FileNotFoundError",
     "evalue": "[Errno 2] No such file or directory: 'Beamer_test_parser'",
     "output_type": "error",
     "traceback": [
      "\u001b[0;31m---------------------------------------------------------------------------\u001b[0m",
      "\u001b[0;31mFileNotFoundError\u001b[0m                         Traceback (most recent call last)",
      "\u001b[0;32m<ipython-input-2-44725abc6a3b>\u001b[0m in \u001b[0;36m<module>\u001b[0;34m\u001b[0m\n\u001b[1;32m      1\u001b[0m \u001b[0;32mfrom\u001b[0m \u001b[0mTexSoup\u001b[0m \u001b[0;32mimport\u001b[0m \u001b[0mTexSoup\u001b[0m\u001b[0;34m\u001b[0m\u001b[0;34m\u001b[0m\u001b[0m\n\u001b[0;32m----> 2\u001b[0;31m \u001b[0;32mwith\u001b[0m \u001b[0mopen\u001b[0m\u001b[0;34m(\u001b[0m\u001b[0;34m'Beamer_test_parser'\u001b[0m\u001b[0;34m,\u001b[0m \u001b[0;34m'r'\u001b[0m\u001b[0;34m)\u001b[0m \u001b[0;32mas\u001b[0m \u001b[0mf\u001b[0m\u001b[0;34m:\u001b[0m\u001b[0;34m\u001b[0m\u001b[0;34m\u001b[0m\u001b[0m\n\u001b[0m\u001b[1;32m      3\u001b[0m     \u001b[0mbeamer_doc\u001b[0m \u001b[0;34m=\u001b[0m \u001b[0mf\u001b[0m\u001b[0;34m.\u001b[0m\u001b[0mread\u001b[0m\u001b[0;34m(\u001b[0m\u001b[0;34m)\u001b[0m\u001b[0;34m\u001b[0m\u001b[0;34m\u001b[0m\u001b[0m\n",
      "\u001b[0;31mFileNotFoundError\u001b[0m: [Errno 2] No such file or directory: 'Beamer_test_parser'"
     ]
    }
   ],
   "source": [
    "from TexSoup import TexSoup\n",
    "with open('Beamer_test_parser', 'r') as f:\n",
    "    beamer_doc = f.read()\n"
   ]
  },
  {
   "cell_type": "code",
   "execution_count": null,
   "metadata": {},
   "outputs": [],
   "source": []
  }
 ],
 "metadata": {
  "kernelspec": {
   "display_name": "venv36",
   "language": "python",
   "name": "venv36"
  },
  "language_info": {
   "codemirror_mode": {
    "name": "ipython",
    "version": 3
   },
   "file_extension": ".py",
   "mimetype": "text/x-python",
   "name": "python",
   "nbconvert_exporter": "python",
   "pygments_lexer": "ipython3",
   "version": "3.6.8"
  }
 },
 "nbformat": 4,
 "nbformat_minor": 2
}

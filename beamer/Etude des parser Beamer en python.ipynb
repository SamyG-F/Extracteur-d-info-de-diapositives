{
 "cells": [
  {
   "cell_type": "markdown",
   "metadata": {},
   "source": [
    "# Etude des parser Beamer en Python"
   ]
  },
  {
   "cell_type": "markdown",
   "metadata": {},
   "source": [
    "## Méthodologie"
   ]
  },
  {
   "cell_type": "markdown",
   "metadata": {},
   "source": [
    "Nous allons étudier l'interêt de plusieurs parsers pour l'extraction d'information de présentations beamer :\n",
    "\n",
    "TexSoup : https://github.com/alvinwan/TexSoup\n",
    "\n",
    "LatexWalker : https://pylatexenc.readthedocs.io/en/latest/latexwalker/\n",
    "\n",
    "PlasTeX : http://plastex.github.io/plastex/\n",
    "\n",
    "LaTeXML : https://dlmf.nist.gov/LaTeXML/\n",
    "\n",
    "Les deux premières sont des API qui permettent de modifier le LateX, les deux autres génèrent un document HTML ou XML, que l'on peut alors parser, avec par exemple https://lxml.de/\n",
    "\n",
    "Le document beamer utilisé pour les tests est beamer/Beamer_test_parser.tex\n",
    "\n",
    "### Objectifs des tests\n",
    "\n",
    "Pour chaque parser, nous voulons tester leur capacité à :\n",
    "- accèder à la structure hiérarchique\n",
    "- accèder à la mise en forme du texte\n",
    "- accèder aux métadonnées\n",
    "\n",
    "La facilité des parsers à extraire ces données sera notre indicateur de leur pertinence pour notre projet.\n",
    "\n",
    "### Tests à effectuer\n",
    "\n",
    "Voici les tests à effectuer avec chaque parser : \n",
    "\n",
    "1) Donner : author, subject, date, keywords\n",
    "\n",
    "2) Donner le nombre de diapositives\n",
    "\n",
    "3) Donner la profondeur et le rang de la diapositive n°3\n",
    "\n",
    "4) Donner le titre et le texte de la diapositive n°2, avec informations de mise en forme\n",
    "\n",
    "Les attendus sont :\n",
    "\n",
    "1) author : 'Samy Gascoin-Fontaine'\n",
    "\n",
    "subject : 'test de parser beamer'\n",
    "\n",
    "date : '20 novembre 2020'\n",
    "\n",
    "keywords : 'test, Python, beamer, parser'\n",
    "\n",
    "2) 4\n",
    "\n",
    "3) profondeur : 3\n",
    "\n",
    "rang : 1\n",
    "\n",
    "4) titre : {text : 'première page', type : 'title'}\n",
    "\n",
    "texte : {text : 'ceci est en italique', type : 'body', italic = True}\n",
    "\n",
    "\n",
    "### Limites et difficultés\n",
    "\n",
    "#### Le nombre de diapositives\n",
    "\n",
    "Ce n'est pas immédiatement récupérable, notre méthode est de compter le nombre de '\\begin{frame}' et d'ajouter 1 si l'on trouve '\\maketitle' . Si d'autres commandes permettent d'ajouter des diapositives, il faut tester leur présence\n",
    "\n",
    "#### La profondeur\n",
    "\n",
    "Sur beamer, les sections autorisées sont \\section, \\subsection et \\subsubsection. On a supposé ici pour simplifier que l'auteur utilise \\section comme premier niveau de hiérarchie. On pourrait vérifier la présence de chaque, avant de leur attribuer une profondeur (dans le cas où l'utilisateur n'aurait que \\subsection et \\subsubsection)\n",
    "\n",
    "#### Insuffisance de profondeur et rang\n",
    "\n",
    "Le couple profondeur et rang de la diapositive ne suffit pas pour identifier une position unique dans une hiérarchie. Par exemple, une diapositive dans Section 1 sous-section 2 et une dans Section 2 sous-section 2 auront la même profondeur 2 (sous-section) et le même rang 2 (n°2 dans le niveau le plus profond, la sous-section). \n",
    "\n",
    "On pourrait imaginer le rang comme une liste, nous indiquant pour chaque niveau de la hiérarchie, son rang. Ici, les exemples donneraient [1,2] et [2,2]\n",
    "\n",
    "## Evaluation des parsers\n",
    "\n",
    "Actuellement, TexSoup semble de loin être le plus pertinent, car ses méthodes nous donnent facilement accès aux commandes, environnments, contenus et contient des fonctions de recherche. LatexWalker devrait permettre les mêmes opérations, mais la communauté est bien plus petite, et l'API est bien moins lisible.\n",
    "\n",
    "PlasTeX et LaTeXML parsent le LateX et permettent une pseudo-équivalence XML. Ils sont donc moins pertinents, car ils nous faut encore parser le XML, avec un outil moins adapté que TexSoup l'est pour le LaTeX.\n",
    "\n",
    "Nous n'avonspas pu faire aboutir les tests des parsers autres que TexSoup, mais leur intérêt pour notre tâche nous parait éminemment moindre."
   ]
  },
  {
   "cell_type": "markdown",
   "metadata": {},
   "source": [
    "## TexSoup version 0.3.1"
   ]
  },
  {
   "cell_type": "markdown",
   "metadata": {},
   "source": [
    "Nous commençons avec TexSoup car il propose une API très lisible et apparemment suffisante pour parser le Latex. Il a également une communauté plus importante que LatexWalker, l'autre bibliothèque qui parse directement le Latex. "
   ]
  },
  {
   "cell_type": "markdown",
   "metadata": {},
   "source": [
    "### Ouvrir le fichier test beamer avec TexSoup"
   ]
  },
  {
   "cell_type": "code",
   "execution_count": 1,
   "metadata": {},
   "outputs": [
    {
     "data": {
      "text/plain": [
       "\\documentclass{beamer}\n",
       "\\usepackage[french]{babel}\n",
       "\\usepackage[utf8]{inputenc}\n",
       "\\usepackage[T1]{fontenc}\n",
       "\\usetheme{Boadilla}\n",
       "\n",
       "\\title{presentation test n°1}\n",
       "\\author{Samy Gascoin-Fontaine}\n",
       "\\date{20 novembre 2020}\n",
       "\\subject{test de parser beamer}\n",
       "%On suppose l'importation d'une commande keywords\n",
       "\\keywords{test, Python, beamer, parser}\n",
       "\n",
       "\\begin{document}\n",
       "\n",
       "\\maketitle\n",
       "\\section{Section 1}\n",
       "\\subsection{Sous-section 1}\n",
       "\n",
       "\\begin{frame}{première page}\n",
       "\\textit{ceci est en italique}\n",
       "\\end{frame}\n",
       "\n",
       "\\subsubsection{Sous-sous-section 1}\n",
       "\n",
       "\\begin{frame}{deuxième page}\n",
       "\\textbf{ceci est en gras}\n",
       "\\end{frame}\n",
       "\n",
       "\\subsection{Sous-section 2}\n",
       "\n",
       "\\begin{frame}{troisième page}\n",
       "\\underline{ceci est en souligné}\n",
       "\\end{frame}\n",
       "\n",
       "\\end{document}"
      ]
     },
     "execution_count": 1,
     "metadata": {},
     "output_type": "execute_result"
    }
   ],
   "source": [
    "from TexSoup import TexSoup\n",
    "with open('Beamer_test_parser.tex', 'r')as f:\n",
    "    beamer_doc = f.read()\n",
    "soup = TexSoup(beamer_doc)\n",
    "soup"
   ]
  },
  {
   "cell_type": "markdown",
   "metadata": {},
   "source": [
    "### Test 1 : author, subject, date, keywords"
   ]
  },
  {
   "cell_type": "code",
   "execution_count": 2,
   "metadata": {},
   "outputs": [
    {
     "name": "stdout",
     "output_type": "stream",
     "text": [
      "Samy Gascoin-Fontaine\n",
      "test de parser beamer\n",
      "20 novembre 2020\n",
      "test, Python, beamer, parser\n"
     ]
    }
   ],
   "source": [
    "author = soup.author.string\n",
    "subject = soup.subject.string\n",
    "date = soup.date.string\n",
    "keywords = soup.keywords.string\n",
    "for i in [author, subject, date, keywords] :\n",
    "    print(i)"
   ]
  },
  {
   "cell_type": "markdown",
   "metadata": {},
   "source": [
    "### Test 2 : le nombre de diapositives"
   ]
  },
  {
   "cell_type": "code",
   "execution_count": 3,
   "metadata": {},
   "outputs": [
    {
     "name": "stdout",
     "output_type": "stream",
     "text": [
      "4\n"
     ]
    }
   ],
   "source": [
    "nb_frame = 0\n",
    "liste_begin_frame = soup.find_all(r'\\begin{frame}')\n",
    "nb_frame += len(liste_begin_frame)\n",
    "if soup.maketitle != None :\n",
    "    nb_frame += 1\n",
    "print(nb_frame)"
   ]
  },
  {
   "cell_type": "markdown",
   "metadata": {},
   "source": [
    "### Test 3 : profondeur et rang de la diapositive n°3"
   ]
  },
  {
   "cell_type": "code",
   "execution_count": 61,
   "metadata": {},
   "outputs": [
    {
     "name": "stdout",
     "output_type": "stream",
     "text": [
      "la profondeur de la diapositive 3 est :  3\n",
      "le rang de la diapositive 3 est :  1\n"
     ]
    }
   ],
   "source": [
    "num_section, num_subsection, num_subsubsection, num_slide = 0,0,0,0\n",
    "profondeur, rang = None, None\n",
    "for child in soup.document.contents:\n",
    "    if r'\\maketitle' in str(child):\n",
    "        num_slide += 1\n",
    "    if r'\\section' in str(child):\n",
    "        num_section += 1\n",
    "        num_subsection = 0\n",
    "        num_subsubsection = 0\n",
    "    if r'\\subsection' in str(child):\n",
    "        num_subsection += 1\n",
    "        num_subsubsection = 0\n",
    "    if r'\\subsubsection' in str(child):\n",
    "        num_subsubsection += 1\n",
    "    if r'\\begin{frame}' in str(child):\n",
    "        num_slide += 1\n",
    "        if num_slide == 3:\n",
    "            if num_subsubsection > 0:\n",
    "                profondeur = 3\n",
    "                rang = num_subsubsection\n",
    "            elif num_subsection > 0:\n",
    "                profondeur = 2\n",
    "                rang = num_subsection\n",
    "            elif num_section > 0:\n",
    "                profondeur = 1\n",
    "                rang = num_section\n",
    "if profondeur != None:\n",
    "    print('la profondeur de la diapositive 3 est : ', profondeur)\n",
    "else:\n",
    "    print(\"la diapositive 3 n'est pas hiérarchisée\")\n",
    "if rang != None:\n",
    "    print('le rang de la diapositive 3 est : ', rang)\n",
    "else:\n",
    "    print(\"la diapositive 3 n'est pas hiérarchisée\")\n"
   ]
  },
  {
   "cell_type": "markdown",
   "metadata": {},
   "source": [
    "### Test 4 : titre et contenu de la diapositive n°2, avec mise en forme"
   ]
  },
  {
   "cell_type": "code",
   "execution_count": 78,
   "metadata": {},
   "outputs": [
    {
     "name": "stdout",
     "output_type": "stream",
     "text": [
      "titre :  {'text': 'première page', 'type': 'title'}\n",
      "texte :  {'text': 'ceci est en italique', 'type': 'body', 'italic': True}\n"
     ]
    }
   ],
   "source": [
    "def mise_en_forme(content, typing):\n",
    "    rv = {}\n",
    "    if type(content.text) is list:\n",
    "        rv['text'] = content.text[0]\n",
    "    else :\n",
    "        rv['text'] = content.text\n",
    "    rv['type'] = typing\n",
    "    if r'\\textit' in str(content):\n",
    "        rv['italic'] = True\n",
    "    if r'\\textbf' in str(content):\n",
    "        rv['bold'] = True # etc.. pour chaque mise en forme\n",
    "    return rv\n",
    "\n",
    "num_slide = 0\n",
    "for child in soup.document.contents:\n",
    "    if r'\\maketitle' in str(child):\n",
    "        num_slide += 1\n",
    "    if r'\\begin{frame}' in str(child):\n",
    "        num_slide += 1\n",
    "        if num_slide == 2:\n",
    "            title = child.contents[0]\n",
    "            text = child.contents[1]\n",
    "\n",
    "print('titre : ', mise_en_forme(title, 'title'))\n",
    "print('texte : ', mise_en_forme(text, 'body'))\n",
    "\n",
    "            "
   ]
  },
  {
   "cell_type": "markdown",
   "metadata": {},
   "source": [
    "## LatexWalker (pylatexenc version 2.8)"
   ]
  },
  {
   "cell_type": "markdown",
   "metadata": {},
   "source": [
    "### Ouvrir le fichier test beamer avec LatexWalker"
   ]
  },
  {
   "cell_type": "code",
   "execution_count": 87,
   "metadata": {},
   "outputs": [
    {
     "data": {
      "text/plain": [
       "LatexMacroNode(parsing_state=<parsing state 140449885356384>, pos=0, len=22, macroname='documentclass', nodeargd=ParsedMacroArgs(argspec='[{', argnlist=[None, LatexGroupNode(parsing_state=<parsing state 140449885356384>, pos=14, len=8, nodelist=[LatexCharsNode(parsing_state=<parsing state 140449885356384>, pos=15, len=6, chars='beamer')], delimiters=('{', '}'))]), macro_post_space='')"
      ]
     },
     "execution_count": 87,
     "metadata": {},
     "output_type": "execute_result"
    }
   ],
   "source": [
    "from pylatexenc.latexwalker import LatexWalker, LatexEnvironmentNode\n",
    "with open('Beamer_test_parser.tex', 'r')as f:\n",
    "    beamer = LatexWalker(f.read())\n",
    "(nodelist, pos, len_) = beamer.get_latex_nodes(pos=0)\n",
    "nodelist[0]"
   ]
  },
  {
   "cell_type": "markdown",
   "metadata": {},
   "source": [
    "L'API est assez obscure, je reviendrai plus tard"
   ]
  },
  {
   "cell_type": "markdown",
   "metadata": {},
   "source": [
    "## PlasTeX version 2.1"
   ]
  },
  {
   "cell_type": "markdown",
   "metadata": {},
   "source": [
    "L'orientation de PlasTeX est assez éloignée de ce que l'on veut faire, leur besoin est de transformer le LateX en HTML, et se concentrent sur le rendu graphique : http://plastex.github.io/plastex/tutorials/"
   ]
  },
  {
   "cell_type": "code",
   "execution_count": null,
   "metadata": {},
   "outputs": [],
   "source": []
  },
  {
   "cell_type": "markdown",
   "metadata": {},
   "source": [
    "## LaTeXML version 0.8.5"
   ]
  },
  {
   "cell_type": "markdown",
   "metadata": {},
   "source": [
    "LaTeXML est uniquement une bibliothèque de conversion vers XML, et de ce fait, comme PlasTeX et"
   ]
  }
 ],
 "metadata": {
  "kernelspec": {
   "display_name": "venv36",
   "language": "python",
   "name": "venv36"
  },
  "language_info": {
   "codemirror_mode": {
    "name": "ipython",
    "version": 3
   },
   "file_extension": ".py",
   "mimetype": "text/x-python",
   "name": "python",
   "nbconvert_exporter": "python",
   "pygments_lexer": "ipython3",
   "version": "3.6.8"
  }
 },
 "nbformat": 4,
 "nbformat_minor": 2
}
